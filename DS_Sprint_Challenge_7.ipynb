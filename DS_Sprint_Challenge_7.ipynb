{
 "cells": [
  {
   "cell_type": "markdown",
   "metadata": {
    "colab_type": "text",
    "id": "Kz9V5lVFMo86"
   },
   "source": [
    "_Lambda School Data Science, Unit 2_\n",
    "\n",
    "# Applied Modeling Sprint Challenge: Predict Chicago food inspections 🍕"
   ]
  },
  {
   "cell_type": "markdown",
   "metadata": {
    "colab_type": "text",
    "id": "yWOjtM9iMo87"
   },
   "source": [
    "For this Sprint Challenge, you'll use a dataset with information from inspections of restaurants and other food establishments in Chicago from January 2010 to March 2019. \n",
    "\n",
    "[See this PDF](https://data.cityofchicago.org/api/assets/BAD5301B-681A-4202-9D25-51B2CAE672FF) for descriptions of the data elements included in this dataset.\n",
    "\n",
    "According to [Chicago Department of Public Health — Food Protection Services](https://www.chicago.gov/city/en/depts/cdph/provdrs/healthy_restaurants/svcs/food-protection-services.html), \"Chicago is home to 16,000 food establishments like restaurants, grocery stores, bakeries, wholesalers, lunchrooms, mobile food vendors and more. Our business is food safety and sanitation with one goal, to prevent the spread of food-borne disease. We do this by inspecting food businesses, responding to complaints and food recalls.\" "
   ]
  },
  {
   "cell_type": "markdown",
   "metadata": {
    "colab_type": "text",
    "id": "VvBYdx2xMo88"
   },
   "source": [
    "#### Your challenge: Predict whether inspections failed\n",
    "\n",
    "The target is the `Fail` column.\n",
    "\n",
    "- When the food establishment failed the inspection, the target is `1`.\n",
    "- When the establishment passed, the target is `0`."
   ]
  },
  {
   "cell_type": "markdown",
   "metadata": {
    "colab_type": "text",
    "id": "3YMtu4LaF8Jq"
   },
   "source": [
    "#### Run this cell to install packages in Colab:"
   ]
  },
  {
   "cell_type": "code",
   "execution_count": 227,
   "metadata": {
    "colab": {},
    "colab_type": "code",
    "id": "vWyiJKQgF6ax"
   },
   "outputs": [],
   "source": [
    "%%capture\n",
    "import sys\n",
    "\n",
    "if 'google.colab' in sys.modules:\n",
    "    # Install packages in Colab\n",
    "    !pip install category_encoders==2.*\n",
    "    !pip install eli5\n",
    "    !pip install pandas-profiling==2.*\n",
    "    !pip install pdpbox\n",
    "    !pip install shap"
   ]
  },
  {
   "cell_type": "markdown",
   "metadata": {
    "colab_type": "text",
    "id": "Na5IvRq1Mo89"
   },
   "source": [
    "#### Run this cell to load the data:"
   ]
  },
  {
   "cell_type": "code",
   "execution_count": 228,
   "metadata": {
    "colab": {},
    "colab_type": "code",
    "id": "Yyc7zftTMo89"
   },
   "outputs": [],
   "source": [
    "import pandas as pd\n",
    "\n",
    "train_url = 'https://drive.google.com/uc?export=download&id=13_tP9JpLcZHSPVpWcua4t2rY44K_s4H5'\n",
    "test_url  = 'https://drive.google.com/uc?export=download&id=1GkDHjsiGrzOXoF_xcYjdzBTSjOIi3g5a'\n",
    "\n",
    "train = pd.read_csv(train_url, index_col=0)\n",
    "test  = pd.read_csv(test_url, index_col=0)\n",
    "\n",
    "#assert train.shape == (51916, 16)\n",
    "#assert test.shape  == (17306, 16)"
   ]
  },
  {
   "cell_type": "markdown",
   "metadata": {},
   "source": [
    "I stopped the shape assertion due to import errors. This is also why I deleted the index to each file."
   ]
  },
  {
   "cell_type": "markdown",
   "metadata": {
    "colab_type": "text",
    "id": "8EhbzqgfMo9A"
   },
   "source": [
    "### Part 1: Preprocessing\n",
    "\n",
    "You may choose which features you want to use, and whether/how you will preprocess them. If you use categorical features, you may use any tools and techniques for encoding.\n",
    "\n",
    "_To earn a score of 3 for this part, find and explain leakage. The dataset has a feature that will give you an ROC AUC score > 0.90 if you process and use the feature. Find the leakage and explain why the feature shouldn't be used in a real-world model to predict the results of future inspections._\n",
    "\n",
    "### Part 2: Modeling\n",
    "\n",
    "**Fit a model** with the train set. (You may use scikit-learn, xgboost, or any other library.) Use cross-validation or do a three-way split (train/validate/test) and **estimate your ROC AUC** validation score.\n",
    "\n",
    "Use your model to **predict probabilities** for the test set. **Get an ROC AUC test score >= 0.60.**\n",
    "\n",
    "_To earn a score of 3 for this part, get an ROC AUC test score >= 0.70 (without using the feature with leakage)._\n",
    "\n",
    "\n",
    "### Part 3: Visualization\n",
    "\n",
    "Make visualizations for model interpretation. (You may use any libraries.) Choose two of these types:\n",
    "\n",
    "- Confusion Matrix\n",
    "- Permutation Importances\n",
    "- Partial Dependence Plot, 1 feature isolation\n",
    "- Partial Dependence Plot, 2 features interaction\n",
    "- Shapley Values\n",
    "\n",
    "_To earn a score of 3 for this part, make four of these visualization types._"
   ]
  },
  {
   "cell_type": "markdown",
   "metadata": {
    "colab_type": "text",
    "id": "muEIQ4EPGVH_"
   },
   "source": [
    "## Part 1: Preprocessing\n",
    "\n",
    "> You may choose which features you want to use, and whether/how you will preprocess them. If you use categorical features, you may use any tools and techniques for encoding."
   ]
  },
  {
   "cell_type": "code",
   "execution_count": 229,
   "metadata": {
    "colab": {},
    "colab_type": "code",
    "id": "Ao1PDJtpIWwp"
   },
   "outputs": [
    {
     "data": {
      "text/plain": [
       "(17306, 16)"
      ]
     },
     "execution_count": 229,
     "metadata": {},
     "output_type": "execute_result"
    }
   ],
   "source": [
    "test.shape"
   ]
  },
  {
   "cell_type": "code",
   "execution_count": 230,
   "metadata": {},
   "outputs": [
    {
     "data": {
      "text/plain": [
       "(51916, 16)"
      ]
     },
     "execution_count": 230,
     "metadata": {},
     "output_type": "execute_result"
    }
   ],
   "source": [
    "train.shape"
   ]
  },
  {
   "cell_type": "code",
   "execution_count": 231,
   "metadata": {},
   "outputs": [
    {
     "data": {
      "text/html": [
       "<div>\n",
       "<style scoped>\n",
       "    .dataframe tbody tr th:only-of-type {\n",
       "        vertical-align: middle;\n",
       "    }\n",
       "\n",
       "    .dataframe tbody tr th {\n",
       "        vertical-align: top;\n",
       "    }\n",
       "\n",
       "    .dataframe thead th {\n",
       "        text-align: right;\n",
       "    }\n",
       "</style>\n",
       "<table border=\"1\" class=\"dataframe\">\n",
       "  <thead>\n",
       "    <tr style=\"text-align: right;\">\n",
       "      <th></th>\n",
       "      <th>DBA Name</th>\n",
       "      <th>AKA Name</th>\n",
       "      <th>License #</th>\n",
       "      <th>Facility Type</th>\n",
       "      <th>Risk</th>\n",
       "      <th>Address</th>\n",
       "      <th>City</th>\n",
       "      <th>State</th>\n",
       "      <th>Zip</th>\n",
       "      <th>Inspection Date</th>\n",
       "      <th>Inspection Type</th>\n",
       "      <th>Violations</th>\n",
       "      <th>Latitude</th>\n",
       "      <th>Longitude</th>\n",
       "      <th>Location</th>\n",
       "      <th>Fail</th>\n",
       "    </tr>\n",
       "    <tr>\n",
       "      <th>Inspection ID</th>\n",
       "      <th></th>\n",
       "      <th></th>\n",
       "      <th></th>\n",
       "      <th></th>\n",
       "      <th></th>\n",
       "      <th></th>\n",
       "      <th></th>\n",
       "      <th></th>\n",
       "      <th></th>\n",
       "      <th></th>\n",
       "      <th></th>\n",
       "      <th></th>\n",
       "      <th></th>\n",
       "      <th></th>\n",
       "      <th></th>\n",
       "      <th></th>\n",
       "    </tr>\n",
       "  </thead>\n",
       "  <tbody>\n",
       "    <tr>\n",
       "      <td>114835</td>\n",
       "      <td>7 - ELEVEN</td>\n",
       "      <td>7 - ELEVEN</td>\n",
       "      <td>46907.0</td>\n",
       "      <td>Grocery Store</td>\n",
       "      <td>Risk 2 (Medium)</td>\n",
       "      <td>600 S DEARBORN</td>\n",
       "      <td>CHICAGO</td>\n",
       "      <td>IL</td>\n",
       "      <td>60605.0</td>\n",
       "      <td>2011-03-22T00:00:00</td>\n",
       "      <td>Canvass</td>\n",
       "      <td>33. FOOD AND NON-FOOD CONTACT EQUIPMENT UTENSI...</td>\n",
       "      <td>41.874481</td>\n",
       "      <td>-87.629357</td>\n",
       "      <td>{'longitude': '-87.62935653990546', 'latitude'...</td>\n",
       "      <td>0</td>\n",
       "    </tr>\n",
       "    <tr>\n",
       "      <td>1575555</td>\n",
       "      <td>TAQUERIA LOS GALLOS INC</td>\n",
       "      <td>TAQUERIA LOS GALLOS</td>\n",
       "      <td>1044860.0</td>\n",
       "      <td>Restaurant</td>\n",
       "      <td>Risk 1 (High)</td>\n",
       "      <td>4209-4211 W 26TH ST</td>\n",
       "      <td>CHICAGO</td>\n",
       "      <td>IL</td>\n",
       "      <td>60623.0</td>\n",
       "      <td>2015-09-15T00:00:00</td>\n",
       "      <td>Canvass</td>\n",
       "      <td>30. FOOD IN ORIGINAL CONTAINER, PROPERLY LABEL...</td>\n",
       "      <td>41.844070</td>\n",
       "      <td>-87.729807</td>\n",
       "      <td>{'longitude': '-87.72980747367433', 'latitude'...</td>\n",
       "      <td>0</td>\n",
       "    </tr>\n",
       "    <tr>\n",
       "      <td>671061</td>\n",
       "      <td>TROTTER'S TO GO</td>\n",
       "      <td>TROTTER'S TO GO</td>\n",
       "      <td>1092634.0</td>\n",
       "      <td>Restaurant</td>\n",
       "      <td>Risk 1 (High)</td>\n",
       "      <td>1337 W FULLERTON AVE</td>\n",
       "      <td>CHICAGO</td>\n",
       "      <td>IL</td>\n",
       "      <td>60614.0</td>\n",
       "      <td>2012-03-02T00:00:00</td>\n",
       "      <td>Canvass</td>\n",
       "      <td>34. FLOORS: CONSTRUCTED PER CODE, CLEANED, GOO...</td>\n",
       "      <td>41.925128</td>\n",
       "      <td>-87.662041</td>\n",
       "      <td>{'longitude': '-87.66204067083224', 'latitude'...</td>\n",
       "      <td>0</td>\n",
       "    </tr>\n",
       "    <tr>\n",
       "      <td>1965844</td>\n",
       "      <td>BIG G'S PIZZA</td>\n",
       "      <td>BIG G'S PIZZA</td>\n",
       "      <td>2334691.0</td>\n",
       "      <td>Restaurant</td>\n",
       "      <td>Risk 1 (High)</td>\n",
       "      <td>1132 W TAYLOR ST</td>\n",
       "      <td>CHICAGO</td>\n",
       "      <td>IL</td>\n",
       "      <td>60607.0</td>\n",
       "      <td>2016-10-04T00:00:00</td>\n",
       "      <td>Canvass Re-Inspection</td>\n",
       "      <td>14. PREVIOUS SERIOUS VIOLATION CORRECTED, 7-42...</td>\n",
       "      <td>41.869546</td>\n",
       "      <td>-87.655501</td>\n",
       "      <td>{'longitude': '-87.65550098867566', 'latitude'...</td>\n",
       "      <td>1</td>\n",
       "    </tr>\n",
       "    <tr>\n",
       "      <td>1751669</td>\n",
       "      <td>SOUTH CENTRAL COMMUNITY SERVICES ELEMENTARY</td>\n",
       "      <td>SOUTH CENTRAL COMMUNITY SERVICES ELEMENTARY</td>\n",
       "      <td>3491970.0</td>\n",
       "      <td>School</td>\n",
       "      <td>Risk 2 (Medium)</td>\n",
       "      <td>1021 E 83RD</td>\n",
       "      <td>CHICAGO</td>\n",
       "      <td>IL</td>\n",
       "      <td>60619.0</td>\n",
       "      <td>2016-04-08T00:00:00</td>\n",
       "      <td>Canvass</td>\n",
       "      <td>18. NO EVIDENCE OF RODENT OR INSECT OUTER OPEN...</td>\n",
       "      <td>41.743933</td>\n",
       "      <td>-87.599291</td>\n",
       "      <td>{'longitude': '-87.59929083361996', 'latitude'...</td>\n",
       "      <td>1</td>\n",
       "    </tr>\n",
       "  </tbody>\n",
       "</table>\n",
       "</div>"
      ],
      "text/plain": [
       "                                                  DBA Name  \\\n",
       "Inspection ID                                                \n",
       "114835                                          7 - ELEVEN   \n",
       "1575555                            TAQUERIA LOS GALLOS INC   \n",
       "671061                                     TROTTER'S TO GO   \n",
       "1965844                                      BIG G'S PIZZA   \n",
       "1751669        SOUTH CENTRAL COMMUNITY SERVICES ELEMENTARY   \n",
       "\n",
       "                                                  AKA Name  License #  \\\n",
       "Inspection ID                                                           \n",
       "114835                                          7 - ELEVEN    46907.0   \n",
       "1575555                                TAQUERIA LOS GALLOS  1044860.0   \n",
       "671061                                     TROTTER'S TO GO  1092634.0   \n",
       "1965844                                      BIG G'S PIZZA  2334691.0   \n",
       "1751669        SOUTH CENTRAL COMMUNITY SERVICES ELEMENTARY  3491970.0   \n",
       "\n",
       "               Facility Type             Risk                Address     City  \\\n",
       "Inspection ID                                                                   \n",
       "114835         Grocery Store  Risk 2 (Medium)        600 S DEARBORN   CHICAGO   \n",
       "1575555           Restaurant    Risk 1 (High)   4209-4211 W 26TH ST   CHICAGO   \n",
       "671061            Restaurant    Risk 1 (High)  1337 W FULLERTON AVE   CHICAGO   \n",
       "1965844           Restaurant    Risk 1 (High)      1132 W TAYLOR ST   CHICAGO   \n",
       "1751669               School  Risk 2 (Medium)           1021 E 83RD   CHICAGO   \n",
       "\n",
       "              State      Zip      Inspection Date        Inspection Type  \\\n",
       "Inspection ID                                                              \n",
       "114835           IL  60605.0  2011-03-22T00:00:00                Canvass   \n",
       "1575555          IL  60623.0  2015-09-15T00:00:00                Canvass   \n",
       "671061           IL  60614.0  2012-03-02T00:00:00                Canvass   \n",
       "1965844          IL  60607.0  2016-10-04T00:00:00  Canvass Re-Inspection   \n",
       "1751669          IL  60619.0  2016-04-08T00:00:00                Canvass   \n",
       "\n",
       "                                                      Violations   Latitude  \\\n",
       "Inspection ID                                                                 \n",
       "114835         33. FOOD AND NON-FOOD CONTACT EQUIPMENT UTENSI...  41.874481   \n",
       "1575555        30. FOOD IN ORIGINAL CONTAINER, PROPERLY LABEL...  41.844070   \n",
       "671061         34. FLOORS: CONSTRUCTED PER CODE, CLEANED, GOO...  41.925128   \n",
       "1965844        14. PREVIOUS SERIOUS VIOLATION CORRECTED, 7-42...  41.869546   \n",
       "1751669        18. NO EVIDENCE OF RODENT OR INSECT OUTER OPEN...  41.743933   \n",
       "\n",
       "               Longitude                                           Location  \\\n",
       "Inspection ID                                                                 \n",
       "114835        -87.629357  {'longitude': '-87.62935653990546', 'latitude'...   \n",
       "1575555       -87.729807  {'longitude': '-87.72980747367433', 'latitude'...   \n",
       "671061        -87.662041  {'longitude': '-87.66204067083224', 'latitude'...   \n",
       "1965844       -87.655501  {'longitude': '-87.65550098867566', 'latitude'...   \n",
       "1751669       -87.599291  {'longitude': '-87.59929083361996', 'latitude'...   \n",
       "\n",
       "               Fail  \n",
       "Inspection ID        \n",
       "114835            0  \n",
       "1575555           0  \n",
       "671061            0  \n",
       "1965844           1  \n",
       "1751669           1  "
      ]
     },
     "execution_count": 231,
     "metadata": {},
     "output_type": "execute_result"
    }
   ],
   "source": [
    "test.head()"
   ]
  },
  {
   "cell_type": "markdown",
   "metadata": {},
   "source": [
    "#Errors\n",
    "\n",
    "I am consistently getting this type of error message. I have spent an hour and only been able to download the file a couple of times without issue. I should be able to run my cells over again without having to deal with this to complete the sprint challenge I think:\n",
    "\n",
    "\n",
    "</style><script nonce=\"ojr1HYLTdP14EVOafnP5LA\"></script></head><body><div id=gbar><nobr><a target=_blank class=gb1 href=\"https://www.google.com/webhp?tab=ow\">Search</a> <a target=_blank class=gb1 href=\"http://www.google.com/imghp?hl=en&tab=oi\">Images</a> <a target=_blank class=gb1 href=\"https://maps.google.com/maps?hl=en&tab=ol\">Maps</a> <a target=_blank class=gb1 href=\"https://play.google.com/?hl=en&tab=o8\">Play</a> <a target=_blank class=gb1 href=\"https://www.youtube.com/?gl=US&tab=o1\">YouTube</a> <a target=_blank class=gb1 href=\"https://news.google.com/nwshp?hl=en&tab=on\">News</a> <a target=_blank class=gb1 href=\"https://mail.google.com/mail/?tab=om\">Gmail</a> <b class=gb1>Drive</b> <a target=_blank class=gb1 style=\"text-decoration:none\" href=\"https://www.google.com/intl/en/about/products?tab=oh\"><u>More</u> &raquo;</a></nobr></div><div id=guser width=100%><nobr><span id=gbn class=gbi></span><span id=gbf class=gbf></span><span id=gbe></span><a target=\"_self\" href=\"/settings?hl=en_US\" class=gb4>Settings</a> | <a target=_blank href=\"//support.google.com/drive/?p=web_home&hl=en_US\" class=gb4>Help</a> | <a target=_top id=gb_70 href=\"https://accounts.google.com/ServiceLogin?hl=en&passive=true&continue=https://drive.google.com/uc%3Fexport%3Ddownload%26id%3D13_tP9JpLcZHSPVpWcua4t2rY44K_s4H5&service=writely\" class=gb4>Sign in</a></nobr></div><div class=gbh style=left:0></div><div class=gbh style=right:0></div><div class=\"uc-main\"><div id=\"uc-dl-icon\" class=\"image-container\"><div class=\"drive-sprite-aux-download-file\"></div></div><div id=\"uc-text\"><p class=\"uc-warning-caption\">Google Drive can't scan this file for viruses.</p><p class=\"uc-warning-subcaption\">We are experiencing technical difficulties. Would you still like to download this file? <span class=\"uc-name-size\"><a href=\"https://drive.google.com/open?id=13_tP9JpLcZHSPVpWcua4t2rY44K_s4H5\">food-inspections-train.csv</a> (61M)</span></p><a id=\"uc-download-link\" class=\"goog-inline-block jfk-button jfk-button-action\" href=\"/uc?export=download&amp;confirm=5Nm7&amp;id=13_tP9JpLcZHSPVpWcua4t2rY44K_s4H5\">Download anyway</a></div></div><div class=\"uc-footer\"><hr class=\"uc-footer-divider\">&copy; 2020 Google - <a class=\"goog-link\" href=\"//support.google.com/drive/?p=web_home\">Help</a> - <a class=\"goog-link\" href=\"//support.google.com/drive/bin/answer.py?hl=en_US&amp;answer=2450387\">Privacy & Terms</a></div></body></html>\t"
   ]
  },
  {
   "cell_type": "code",
   "execution_count": 232,
   "metadata": {},
   "outputs": [
    {
     "data": {
      "text/html": [
       "<div>\n",
       "<style scoped>\n",
       "    .dataframe tbody tr th:only-of-type {\n",
       "        vertical-align: middle;\n",
       "    }\n",
       "\n",
       "    .dataframe tbody tr th {\n",
       "        vertical-align: top;\n",
       "    }\n",
       "\n",
       "    .dataframe thead th {\n",
       "        text-align: right;\n",
       "    }\n",
       "</style>\n",
       "<table border=\"1\" class=\"dataframe\">\n",
       "  <thead>\n",
       "    <tr style=\"text-align: right;\">\n",
       "      <th></th>\n",
       "      <th>DBA Name</th>\n",
       "      <th>AKA Name</th>\n",
       "      <th>License #</th>\n",
       "      <th>Facility Type</th>\n",
       "      <th>Risk</th>\n",
       "      <th>Address</th>\n",
       "      <th>City</th>\n",
       "      <th>State</th>\n",
       "      <th>Zip</th>\n",
       "      <th>Inspection Date</th>\n",
       "      <th>Inspection Type</th>\n",
       "      <th>Violations</th>\n",
       "      <th>Latitude</th>\n",
       "      <th>Longitude</th>\n",
       "      <th>Location</th>\n",
       "      <th>Fail</th>\n",
       "    </tr>\n",
       "    <tr>\n",
       "      <th>Inspection ID</th>\n",
       "      <th></th>\n",
       "      <th></th>\n",
       "      <th></th>\n",
       "      <th></th>\n",
       "      <th></th>\n",
       "      <th></th>\n",
       "      <th></th>\n",
       "      <th></th>\n",
       "      <th></th>\n",
       "      <th></th>\n",
       "      <th></th>\n",
       "      <th></th>\n",
       "      <th></th>\n",
       "      <th></th>\n",
       "      <th></th>\n",
       "      <th></th>\n",
       "    </tr>\n",
       "  </thead>\n",
       "  <tbody>\n",
       "    <tr>\n",
       "      <td>2088270</td>\n",
       "      <td>TOM YUM RICE &amp; NOODLE, INC.</td>\n",
       "      <td>TOM YUM CAFE</td>\n",
       "      <td>2354911.0</td>\n",
       "      <td>Restaurant</td>\n",
       "      <td>Risk 1 (High)</td>\n",
       "      <td>608 W BARRY</td>\n",
       "      <td>CHICAGO</td>\n",
       "      <td>IL</td>\n",
       "      <td>60657.0</td>\n",
       "      <td>2017-09-15T00:00:00</td>\n",
       "      <td>Canvass</td>\n",
       "      <td>3. POTENTIALLY HAZARDOUS FOOD MEETS TEMPERATUR...</td>\n",
       "      <td>41.938007</td>\n",
       "      <td>-87.644755</td>\n",
       "      <td>{'longitude': '-87.6447545707008', 'latitude':...</td>\n",
       "      <td>1</td>\n",
       "    </tr>\n",
       "    <tr>\n",
       "      <td>555268</td>\n",
       "      <td>FILLING STATION  &amp; CONVENIENCE  STORE</td>\n",
       "      <td>FILLING STATION  &amp; CONVENIENCE  STORE</td>\n",
       "      <td>1044901.0</td>\n",
       "      <td>Grocery Store</td>\n",
       "      <td>Risk 3 (Low)</td>\n",
       "      <td>6646-6658 S WESTERN AVE</td>\n",
       "      <td>CHICAGO</td>\n",
       "      <td>IL</td>\n",
       "      <td>60636.0</td>\n",
       "      <td>2011-10-20T00:00:00</td>\n",
       "      <td>Complaint Re-Inspection</td>\n",
       "      <td>32. FOOD AND NON-FOOD CONTACT SURFACES PROPERL...</td>\n",
       "      <td>41.772402</td>\n",
       "      <td>-87.683603</td>\n",
       "      <td>{'longitude': '-87.68360273081268', 'latitude'...</td>\n",
       "      <td>0</td>\n",
       "    </tr>\n",
       "    <tr>\n",
       "      <td>1751394</td>\n",
       "      <td>A P DELI</td>\n",
       "      <td>A P DELI</td>\n",
       "      <td>47405.0</td>\n",
       "      <td>Restaurant</td>\n",
       "      <td>Risk 1 (High)</td>\n",
       "      <td>2025 E 75TH ST</td>\n",
       "      <td>CHICAGO</td>\n",
       "      <td>IL</td>\n",
       "      <td>60649.0</td>\n",
       "      <td>2016-04-05T00:00:00</td>\n",
       "      <td>Canvass Re-Inspection</td>\n",
       "      <td>35. WALLS, CEILINGS, ATTACHED EQUIPMENT CONSTR...</td>\n",
       "      <td>41.758779</td>\n",
       "      <td>-87.575054</td>\n",
       "      <td>{'longitude': '-87.57505446746121', 'latitude'...</td>\n",
       "      <td>0</td>\n",
       "    </tr>\n",
       "    <tr>\n",
       "      <td>1763905</td>\n",
       "      <td>FRANK'S CHICAGO SHRIMP HOUSE</td>\n",
       "      <td>FRANK'S CHICAGO SHRIMP HOUSE</td>\n",
       "      <td>6414.0</td>\n",
       "      <td>Restaurant</td>\n",
       "      <td>Risk 2 (Medium)</td>\n",
       "      <td>4459 S ARCHER AVE</td>\n",
       "      <td>CHICAGO</td>\n",
       "      <td>IL</td>\n",
       "      <td>60632.0</td>\n",
       "      <td>2016-04-29T00:00:00</td>\n",
       "      <td>Canvass</td>\n",
       "      <td>38. VENTILATION: ROOMS AND EQUIPMENT VENTED AS...</td>\n",
       "      <td>41.812181</td>\n",
       "      <td>-87.707125</td>\n",
       "      <td>{'longitude': '-87.70712481334274', 'latitude'...</td>\n",
       "      <td>0</td>\n",
       "    </tr>\n",
       "    <tr>\n",
       "      <td>453326</td>\n",
       "      <td>MORRILL</td>\n",
       "      <td>MORRILL</td>\n",
       "      <td>24571.0</td>\n",
       "      <td>School</td>\n",
       "      <td>Risk 1 (High)</td>\n",
       "      <td>6011 S Rockwell (2600W) AVE</td>\n",
       "      <td>CHICAGO</td>\n",
       "      <td>IL</td>\n",
       "      <td>60629.0</td>\n",
       "      <td>2011-01-10T00:00:00</td>\n",
       "      <td>Canvass</td>\n",
       "      <td>34. FLOORS: CONSTRUCTED PER CODE, CLEANED, GOO...</td>\n",
       "      <td>NaN</td>\n",
       "      <td>NaN</td>\n",
       "      <td>NaN</td>\n",
       "      <td>0</td>\n",
       "    </tr>\n",
       "  </tbody>\n",
       "</table>\n",
       "</div>"
      ],
      "text/plain": [
       "                                            DBA Name  \\\n",
       "Inspection ID                                          \n",
       "2088270                  TOM YUM RICE & NOODLE, INC.   \n",
       "555268         FILLING STATION  & CONVENIENCE  STORE   \n",
       "1751394                                     A P DELI   \n",
       "1763905                 FRANK'S CHICAGO SHRIMP HOUSE   \n",
       "453326                                       MORRILL   \n",
       "\n",
       "                                            AKA Name  License #  \\\n",
       "Inspection ID                                                     \n",
       "2088270                                 TOM YUM CAFE  2354911.0   \n",
       "555268         FILLING STATION  & CONVENIENCE  STORE  1044901.0   \n",
       "1751394                                     A P DELI    47405.0   \n",
       "1763905                 FRANK'S CHICAGO SHRIMP HOUSE     6414.0   \n",
       "453326                                       MORRILL    24571.0   \n",
       "\n",
       "               Facility Type             Risk                       Address  \\\n",
       "Inspection ID                                                                 \n",
       "2088270           Restaurant    Risk 1 (High)                  608 W BARRY    \n",
       "555268         Grocery Store     Risk 3 (Low)      6646-6658 S WESTERN AVE    \n",
       "1751394           Restaurant    Risk 1 (High)               2025 E 75TH ST    \n",
       "1763905           Restaurant  Risk 2 (Medium)            4459 S ARCHER AVE    \n",
       "453326                School    Risk 1 (High)  6011 S Rockwell (2600W) AVE    \n",
       "\n",
       "                  City State      Zip      Inspection Date  \\\n",
       "Inspection ID                                                \n",
       "2088270        CHICAGO    IL  60657.0  2017-09-15T00:00:00   \n",
       "555268         CHICAGO    IL  60636.0  2011-10-20T00:00:00   \n",
       "1751394        CHICAGO    IL  60649.0  2016-04-05T00:00:00   \n",
       "1763905        CHICAGO    IL  60632.0  2016-04-29T00:00:00   \n",
       "453326         CHICAGO    IL  60629.0  2011-01-10T00:00:00   \n",
       "\n",
       "                       Inspection Type  \\\n",
       "Inspection ID                            \n",
       "2088270                        Canvass   \n",
       "555268         Complaint Re-Inspection   \n",
       "1751394          Canvass Re-Inspection   \n",
       "1763905                        Canvass   \n",
       "453326                         Canvass   \n",
       "\n",
       "                                                      Violations   Latitude  \\\n",
       "Inspection ID                                                                 \n",
       "2088270        3. POTENTIALLY HAZARDOUS FOOD MEETS TEMPERATUR...  41.938007   \n",
       "555268         32. FOOD AND NON-FOOD CONTACT SURFACES PROPERL...  41.772402   \n",
       "1751394        35. WALLS, CEILINGS, ATTACHED EQUIPMENT CONSTR...  41.758779   \n",
       "1763905        38. VENTILATION: ROOMS AND EQUIPMENT VENTED AS...  41.812181   \n",
       "453326         34. FLOORS: CONSTRUCTED PER CODE, CLEANED, GOO...        NaN   \n",
       "\n",
       "               Longitude                                           Location  \\\n",
       "Inspection ID                                                                 \n",
       "2088270       -87.644755  {'longitude': '-87.6447545707008', 'latitude':...   \n",
       "555268        -87.683603  {'longitude': '-87.68360273081268', 'latitude'...   \n",
       "1751394       -87.575054  {'longitude': '-87.57505446746121', 'latitude'...   \n",
       "1763905       -87.707125  {'longitude': '-87.70712481334274', 'latitude'...   \n",
       "453326               NaN                                                NaN   \n",
       "\n",
       "               Fail  \n",
       "Inspection ID        \n",
       "2088270           1  \n",
       "555268            0  \n",
       "1751394           0  \n",
       "1763905           0  \n",
       "453326            0  "
      ]
     },
     "execution_count": 232,
     "metadata": {},
     "output_type": "execute_result"
    }
   ],
   "source": [
    "train.head()"
   ]
  },
  {
   "cell_type": "markdown",
   "metadata": {},
   "source": [
    "Examine Facility Type as a good feature to re-engineer. Looks like it could be a categorical value but is likely full of random stuff."
   ]
  },
  {
   "cell_type": "code",
   "execution_count": 233,
   "metadata": {},
   "outputs": [
    {
     "name": "stdout",
     "output_type": "stream",
     "text": [
      "329\n",
      "['Restaurant' 'Grocery Store' 'School' 'Long Term Care' 'Liquor'\n",
      " 'Daycare Above and Under 2 Years' \"Children's Services Facility\"\n",
      " 'Catering' 'Daycare Night' 'CHURCH' 'GAS STATION/STORE'\n",
      " 'Daycare (2 - 6 Years)' 'Mobile Food Preparer' 'Golden Diner' 'TAVERN'\n",
      " 'ICE CREAM SHOP' 'Banquet Hall' 'coffee shop' 'Bakery'\n",
      " 'SLAUGHTER HOUSE/ GROCERY' 'RESTAURANT/GROCERY STORE'\n",
      " 'Shared Kitchen User (Long Term)' 'Daycare (Under 2 Years)' 'Wholesale'\n",
      " 'Mobile Food Dispenser' nan 'Daycare Combo 1586' 'Hospital' 'STORE'\n",
      " 'Airport Lounge' 'LIVE POULTRY' 'tavern' 'REPACKAGING PLANT'\n",
      " 'Daycare (2 Years)' 'Mobile Prepared Food Vendor' 'CHURCH KITCHEN'\n",
      " 'GROCERY/GAS STATION' 'GAS STATION STORE' 'BAR' 'Navy Pier Kiosk'\n",
      " 'STADIUM' 'Special Event' 'KIOSK' 'RETAIL STORE' 'CATERING/CAFE'\n",
      " 'GROCERY/RESTAURANT' 'MOVIE THEATRE' 'Shared Kitchen' 'DAYCARE'\n",
      " 'TEA BREWING' 'Long-Term Care' \"1023-CHILDREN'S SERVICES FACILITY\"\n",
      " 'convenience store' 'GAS STATION' 'Private School' 'COMMISSARY'\n",
      " 'COFFEE KIOSK' 'CONVENIENCE STORE' 'meat packing' 'RESTAURANT/BAR'\n",
      " 'MOBILE FOOD TRUCK' 'BANQUET HALL' 'Shelter' 'banquets'\n",
      " 'ICE CREAM PARLOR' 'Long Term Care Facility' 'GROCERY& RESTAURANT'\n",
      " 'Grocery & Restaurant' 'CONVENIENT STORE' 'cafeteria' 'Banquet rooms'\n",
      " 'ROOF TOPS' 'convenience' 'grocery/dollar store' 'gas station'\n",
      " 'GROCERY STORE/COOKING SCHOOL' 'Food Vending Machines'\n",
      " 'Shared Kitchen User (Short Term)' 'GROCERY/TAQUERIA'\n",
      " 'MOBILE FROZEN DESSERTS VENDOR' 'SMOKEHOUSE' 'GROCERY STORE/BAKERY'\n",
      " 'KIDS CAFE' 'HEALTH/ JUICE BAR' 'bar' 'RIVERWALK' 'weight loss program'\n",
      " 'SCHOOL' 'COFFEE VENDING MACHINE' 'WRIGLEY ROOFTOP' 'WAREHOUSE'\n",
      " 'ROOF TOP' 'SPA' 'HOTEL' 'MOBILE FROZEN DESSERTS DISPENSER-NON-MOTOR'\n",
      " 'CHURCH/SPECIAL EVENTS' 'JUICE BAR' \"1023 CHILDERN'S SERVICE FACILITY\"\n",
      " 'Deli' 'PASTRY school' 'THEATRE' 'GROCERY/BAKERY' 'PRIVATE SCHOOL'\n",
      " 'ROOFTOP' 'DISTRIBUTION CENTER' 'newsstand' 'BANQUET' 'employee kitchen'\n",
      " 'RESTAURANT/GROCERY' 'AFTER SCHOOL PROGRAM' 'Church' 'Candy'\n",
      " 'ROOFTOP PATIO' 'banquet hall' 'Grocery(Sushi prep)' 'ROOM SERVICE'\n",
      " 'Mobile Frozen Desserts Vendor' 'COLLEGE' 'GAS STATION/MINI MART'\n",
      " 'MOBILE FROZEN DESSERT VENDOR' 'CUSTOM POULTRY SLAUGHTER' 'ROOFTOPS'\n",
      " 'NOT-FOR-PROFIT CLUB' 'CANDY/GELATO' 'NURSING HOME' 'HOT DOG STATION'\n",
      " 'GAS STATION/RESTAURANT' 'CHILDRENS SERVICES FACILITY' 'Rest/GYM'\n",
      " \"1023 CHILDERN'S SERVICES FACILITY\" 'BREWPUB' 'RESTAURANT.BANQUET HALLS'\n",
      " 'GROCERY STORE/ RESTAURANT' 'THEATER' 'GROCERY STORE/TAQUERIA'\n",
      " 'FOOD PANTRY/CHURCH' 'CAFETERIA'\n",
      " 'FROZEN DESSERTS DISPENSER-NON-MOTORIZED' 'PUBLIC SHCOOL'\n",
      " 'HERBAL MEDICINE' 'CONVENIENCE' 'GROCERY/DRUG STORE' 'dollar store'\n",
      " 'PRE PACKAGED' 'COLD/FROZEN FOOD STORAGE' 'RESTAURANT/BAKERY'\n",
      " 'NIGHT CLUB' 'CHARITY AID KITCHEN' 'Other' 'GROCERY AND BUTCHER'\n",
      " 'CHURCH (SPECIAL EVENTS)' 'RESTUARANT AND BAR' 'CAFE/STORE'\n",
      " 'A-Not-For-Profit Chef Training Program' 'PALETERIA'\n",
      " 'CITY OF CHICAGO COLLEGE' 'banquets/room service'\n",
      " 'ART GALLERY W/WINE AND BEER' 'CHARTER SCHOOL' 'MASSAGE BAR'\n",
      " 'RESTAURANT/HOSPITAL' \"1023 CHILDREN'S SERVICES FACILITY\" 'Tavern'\n",
      " 'MOBILE DESSERTS VENDOR' 'Theater & Restaurant' 'PACKAGED LIQUOR'\n",
      " 'TOBACCO STORE' 'DOLLAR STORE SELLING GROCERY' 'TAVERN GRILL'\n",
      " 'TEACHING SCHOOL' 'Animal Shelter Cafe Permit' 'CULINARY SCHOOL'\n",
      " '(gas station)' 'MEXICAN CANDY STORE' 'LINITED BUSINESS' 'fish market'\n",
      " 'MOBILE FROZEN DESSERTS DISPENSER-NON-MOTORIZED' 'HOSTEL'\n",
      " 'LIQUOR/COFFEE KIOSK' 'REHAB CENTER' 'Banquet Dining' 'Wrigley Roof Top'\n",
      " 'CLOTHING STORE' 'RESTAURANT/GAS STATION' 'school cafeteria' '1023'\n",
      " 'SUPPORTIVE LIVING' 'REST/GROCERY' 'GOLF COURSE CONNCESSION STAND'\n",
      " 'Coffee shop' 'LOUNGE/BANQUET HALL' 'SENIOR DAY CARE'\n",
      " 'BEFORE AND AFTER SCHOOL PROGRAM' 'ASSISTED LIVING' 'DRUG/GROCERY STORE'\n",
      " 'GROCERY/ RESTAURANT' 'DINING HALL' 'convenience/drug store'\n",
      " 'GROCERY STORE/GAS STATION' 'Cafeteria' 'candy/gelato' 'theater'\n",
      " 'Live Poultry' 'COOKING SCHOOL' 'SOUP KITCHEN' 'snack shop' 'BAR/GRILL'\n",
      " 'REST/ROOFTOP' 'GROCERY/SERVICE GAS STATION' 'CANDY STORE' 'Ice cream'\n",
      " 'hooka lounge' \"O'Hare Kiosk\" 'COFFEE SHOP' 'DRUG STORE/GROCERY'\n",
      " 'LIQUORE STORE/BAR' 'PREPACKAGE MEAL DISTRIBUTOR (1006 Retail)'\n",
      " 'WINE STORE' 'PUSH CARTS' 'Catering and Wholesale' 'Church Kitchen'\n",
      " 'blockbuster video' 'BAKERY/DELI' 'PHARMACY' 'UNUSED STORAGE'\n",
      " 'DRUG/FOOD STORE' 'COMMISSARY FOR SOFT SERVE ICE CREAM TRUCKS'\n",
      " 'PACKAGED HEALTH FOODS' 'FROZEN DESSERT PUSHCARTS' 'GROCERY STORE/DELI'\n",
      " 'SUPPORTIVE LIVING FACILITY' 'LIQUOR CONSUMPTION ON PREMISES.'\n",
      " 'Commissary' 'bakery/restaurant' 'DISTRIBUTOR'\n",
      " 'CHURCH/AFTER SCHOOL PROGRAM' 'EVENT VENU' 'BANQUET HALL/CATERING'\n",
      " 'BREWERY' 'pharmacy/grocery' 'smoothie bar' 'live butcher'\n",
      " 'GROCERY/LIQUOR' 'UNIVERSITY CAFETERIA'\n",
      " 'FROZEN DESSERTS DISPENSER -NON MOTORIZED' 'FITNESS CENTER' 'GOLF COURSE'\n",
      " 'School Cafeteria' 'NOT FOR PROFIT' 'GAS STATION/ GROCERY STORE' 'HERBAL'\n",
      " 'GIFT/CARD SHOP WITH CANDY' 'MUSIC VENUE' 'grocery/butcher' 'Herabalife'\n",
      " 'DAYCARE 2 YRS TO 12 YRS' 'HERBAL REMEDY' 'DRUG STORE/W/ FOOD'\n",
      " 'TENT RSTAURANT' 'Illegal Vendor' 'Food Pantry' 'HERBALIFE'\n",
      " '1005 NURSING HOME' 'HERBAL LIFE SHOP' 'DOLLAR & GROCERY STORE'\n",
      " 'CHURCH/DAY CARE' 'Pool' \"CHILDERN'S SERVICE FACILITY\" 'TEMPORARY KIOSK'\n",
      " 'BANQUET ROOM' 'CELL PHONE STORE' 'URBAN FARM' 'butcher shop'\n",
      " 'REGULATED BUSINESS' 'CHURCH/SPECIAL EVENT' 'MOVIE THEATER' 'grocery'\n",
      " 'NP-KIOSK' 'THEATER/BAR' 'Adult Family Care Center' 'BANQUET FACILITY'\n",
      " 'Banquet' 'HERBALIFE STORE' 'WHOLESALE BAKERY'\n",
      " '1584-DAY CARE ABOVE 2 YEARS' 'Long-Term Care Facility'\n",
      " 'SUMMER FEEDING PREP AREA' 'DAYCARE 1586' 'GAS STATION/STORE GROCERY'\n",
      " \"FARMER'S MARKET\" 'WINE TASTING BAR' 'GROCERY STORE / GAS STATION'\n",
      " 'DELI/GROCERY STORE' 'Poultry Slaughter' 'watermelon house'\n",
      " 'cooking school' 'PRODUCE STAND' 'CHICAGO PARK DISTRICT' 'warehouse'\n",
      " 'HERBALCAL' 'DAYCARE 6 WKS-5YRS' 'CAFE' 'GAS STATION /SUBWAY MINI MART.'\n",
      " 'CHINESE HERBS' 'JUICE AND SALAD BAR' 'COFFEE/TEA' 'ROOFTOP/RESTAURANT'\n",
      " 'coffee' 'Restaurant(protein shake bar)' 'Convenience Store'\n",
      " 'CHARTER SCHOOL CAFETERIA' 'COMMIASARY' 'VFW HALL' 'donut shop'\n",
      " 'Shuffleboard Club with Bar' 'BEVERAGE/SILVERWARE WAREHOUSE'\n",
      " 'Social Club' 'CONVNIENCE STORE' 'GELATO SHOP' 'Nutrition Store'\n",
      " 'GAS STATION/FOOD' 'Assisted Living Senior Care' 'PROTEIN SHAKE BAR'\n",
      " 'UNLICENSED FACILITY' 'Assisted Living' 'religious' 'COFFEE  SHOP'\n",
      " 'MOBILE FROZEN DESSERTS DISPENSER-NON- MOTORIZED' '(convenience store)'\n",
      " 'RESTAURANT/BAR/THEATER']\n"
     ]
    }
   ],
   "source": [
    "y = train['Facility Type']\n",
    "print(y.nunique()) #this finds number of unique values\n",
    "print(y.unique()) #this generates the contents of the array of unique values"
   ]
  },
  {
   "cell_type": "code",
   "execution_count": 234,
   "metadata": {},
   "outputs": [
    {
     "data": {
      "text/plain": [
       "224"
      ]
     },
     "execution_count": 234,
     "metadata": {},
     "output_type": "execute_result"
    }
   ],
   "source": [
    "train['Facility Type'].isnull().sum()"
   ]
  },
  {
   "cell_type": "code",
   "execution_count": 235,
   "metadata": {},
   "outputs": [
    {
     "data": {
      "text/plain": [
       "DBA Name              0\n",
       "AKA Name            623\n",
       "License #             5\n",
       "Facility Type       224\n",
       "Risk                 12\n",
       "Address               0\n",
       "City                 53\n",
       "State                10\n",
       "Zip                  26\n",
       "Inspection Date       0\n",
       "Inspection Type       1\n",
       "Violations         9655\n",
       "Latitude            198\n",
       "Longitude           198\n",
       "Location            198\n",
       "Fail                  0\n",
       "dtype: int64"
      ]
     },
     "execution_count": 235,
     "metadata": {},
     "output_type": "execute_result"
    }
   ],
   "source": [
    "train.isnull().sum()"
   ]
  },
  {
   "cell_type": "markdown",
   "metadata": {},
   "source": [
    "Dropping rows which contain Nan in 'Facility Type'"
   ]
  },
  {
   "cell_type": "code",
   "execution_count": 236,
   "metadata": {},
   "outputs": [],
   "source": [
    "train = train[train['Facility Type'].notnull()]"
   ]
  },
  {
   "cell_type": "code",
   "execution_count": 237,
   "metadata": {},
   "outputs": [],
   "source": [
    "columns = ['City','AKA Name','License #','State','Zip','Violations','Latitude','Longitude','Location']"
   ]
  },
  {
   "cell_type": "markdown",
   "metadata": {},
   "source": [
    "Re-engineering the 'Facility Type' column. This was done hunt and peck. If I had time I'd build a function for this."
   ]
  },
  {
   "cell_type": "code",
   "execution_count": 238,
   "metadata": {},
   "outputs": [],
   "source": [
    "train['Facility Type'] = train['Facility Type'].str.lower()\n",
    "\n",
    "daycare = train['Facility Type'].str.contains('daycare')\n",
    "store = train['Facility Type'].str.contains('store')\n",
    "restuarant = train['Facility Type'].str.contains('restuarant')\n",
    "grocery = train['Facility Type'].str.contains('grocery')\n",
    "cafeteria = train['Facility Type'].str.contains('cafeteria')\n",
    "bar = train['Facility Type'].str.contains('bar')\n",
    "coffee = train['Facility Type'].str.contains('coffee')\n",
    "assisted = train['Facility Type'].str.contains('assist')\n",
    "shop = train['Facility Type'].str.contains('shop')\n",
    "care = train['Facility Type'].str.contains('care')\n",
    "nursing = train['Facility Type'].str.contains('nursing')\n",
    "club = train['Facility Type'].str.contains('club')\n",
    "kitchen = train['Facility Type'].str.contains('kitchen')\n",
    "cafe = train['Facility Type'].str.contains('cafe')\n",
    "school = train['Facility Type'].str.contains('school')\n",
    "dcare = train['Facility Type'].str.contains('day care')\n",
    "hall = train['Facility Type'].str.contains('hall')\n",
    "venue = train['Facility Type'].str.contains('venue')\n",
    "diner = train['Facility Type'].str.contains('diner')\n",
    "bakery = train['Facility Type'].str.contains('bakery')\n",
    "rooftop = train['Facility Type'].str.contains('rooftop')\n",
    "gasstation = train['Facility Type'].str.contains('gas station')\n",
    "\n",
    "train.loc[daycare, 'Facility Type'] = 'Daycare'\n",
    "train.loc[store, 'Facility Type'] = 'Store'\n",
    "train.loc[restuarant, 'Facility Type'] = 'Restuarant'\n",
    "train.loc[grocery, 'Facility Type'] = 'Grocery'\n",
    "train.loc[cafeteria, 'Facility Type'] = 'Cafeteria'\n",
    "train.loc[bar, 'Facility Type'] = 'Bar'\n",
    "train.loc[coffee, 'Facility Type'] = 'Coffee'\n",
    "train.loc[assisted, 'Facility Type'] = 'Assisted Living'\n",
    "train.loc[shop, 'Facility Type'] = 'Shop'\n",
    "train.loc[nursing, 'Facility Type'] = 'Assisted Living'\n",
    "train.loc[club, 'Facility Type'] = 'Club'\n",
    "train.loc[kitchen, 'Facility Type'] = 'Kitchen'\n",
    "train.loc[cafe, 'Facility Type'] = 'Cafe'\n",
    "train.loc[school, 'Facility Type'] = 'School'\n",
    "train.loc[dcare, 'Facility Type'] = 'Daycare'\n",
    "train.loc[hall, 'Facility Type'] = 'Venue'\n",
    "train.loc[venue, 'Facility Type'] = 'Venue'\n",
    "train.loc[diner, 'Facility Type'] = 'Diner'\n",
    "train.loc[bakery, 'Facility Type'] = 'Bakery'\n",
    "train.loc[rooftop, 'Facility Type'] = 'Rooftop'\n",
    "train.loc[gasstation, 'Facility Type'] = 'Gas Station'"
   ]
  },
  {
   "cell_type": "code",
   "execution_count": 239,
   "metadata": {},
   "outputs": [],
   "source": [
    "facilities = ['Gas Station','Rooftop','Bakery','Diner','Venue','Daycare',\n",
    "             'School','Cafe','Kitchen','Club','Assisted Living','Shop',\n",
    "             'Coffee','Bar','Cafeteria','Grocery','Restuarant','Store',\n",
    "             'Daycare']"
   ]
  },
  {
   "cell_type": "markdown",
   "metadata": {},
   "source": [
    "Selecting only those rows in train which have been standardized through my re-engineering"
   ]
  },
  {
   "cell_type": "code",
   "execution_count": 240,
   "metadata": {},
   "outputs": [],
   "source": [
    "train = train[train['Facility Type'].isin(facilities)]"
   ]
  },
  {
   "cell_type": "code",
   "execution_count": 241,
   "metadata": {},
   "outputs": [
    {
     "data": {
      "text/plain": [
       "Grocery            6994\n",
       "School             3937\n",
       "Daycare            1816\n",
       "Bakery              861\n",
       "Diner               162\n",
       "Kitchen             127\n",
       "Gas Station          83\n",
       "Store                59\n",
       "Venue                52\n",
       "Cafe                 39\n",
       "Bar                  37\n",
       "Shop                 27\n",
       "Rooftop              19\n",
       "Assisted Living      13\n",
       "Coffee                9\n",
       "Club                  4\n",
       "Name: Facility Type, dtype: int64"
      ]
     },
     "execution_count": 241,
     "metadata": {},
     "output_type": "execute_result"
    }
   ],
   "source": [
    "train['Facility Type'].value_counts()"
   ]
  },
  {
   "cell_type": "code",
   "execution_count": 242,
   "metadata": {},
   "outputs": [
    {
     "data": {
      "text/plain": [
       "(14239, 16)"
      ]
     },
     "execution_count": 242,
     "metadata": {},
     "output_type": "execute_result"
    }
   ],
   "source": [
    "train.shape"
   ]
  },
  {
   "cell_type": "markdown",
   "metadata": {},
   "source": [
    "Original shape of train was (51916, 16). Now it's (14239, 16). Shouldn't matter as I still have lots of data and my goal is to make as quick of a model as I can before fine tuning."
   ]
  },
  {
   "cell_type": "code",
   "execution_count": 243,
   "metadata": {},
   "outputs": [
    {
     "data": {
      "text/html": [
       "<div>\n",
       "<style scoped>\n",
       "    .dataframe tbody tr th:only-of-type {\n",
       "        vertical-align: middle;\n",
       "    }\n",
       "\n",
       "    .dataframe tbody tr th {\n",
       "        vertical-align: top;\n",
       "    }\n",
       "\n",
       "    .dataframe thead th {\n",
       "        text-align: right;\n",
       "    }\n",
       "</style>\n",
       "<table border=\"1\" class=\"dataframe\">\n",
       "  <thead>\n",
       "    <tr style=\"text-align: right;\">\n",
       "      <th></th>\n",
       "      <th>DBA Name</th>\n",
       "      <th>AKA Name</th>\n",
       "      <th>License #</th>\n",
       "      <th>Facility Type</th>\n",
       "      <th>Risk</th>\n",
       "      <th>Address</th>\n",
       "      <th>City</th>\n",
       "      <th>State</th>\n",
       "      <th>Zip</th>\n",
       "      <th>Inspection Date</th>\n",
       "      <th>Inspection Type</th>\n",
       "      <th>Violations</th>\n",
       "      <th>Latitude</th>\n",
       "      <th>Longitude</th>\n",
       "      <th>Location</th>\n",
       "      <th>Fail</th>\n",
       "    </tr>\n",
       "    <tr>\n",
       "      <th>Inspection ID</th>\n",
       "      <th></th>\n",
       "      <th></th>\n",
       "      <th></th>\n",
       "      <th></th>\n",
       "      <th></th>\n",
       "      <th></th>\n",
       "      <th></th>\n",
       "      <th></th>\n",
       "      <th></th>\n",
       "      <th></th>\n",
       "      <th></th>\n",
       "      <th></th>\n",
       "      <th></th>\n",
       "      <th></th>\n",
       "      <th></th>\n",
       "      <th></th>\n",
       "    </tr>\n",
       "  </thead>\n",
       "  <tbody>\n",
       "    <tr>\n",
       "      <td>555268</td>\n",
       "      <td>FILLING STATION  &amp; CONVENIENCE  STORE</td>\n",
       "      <td>FILLING STATION  &amp; CONVENIENCE  STORE</td>\n",
       "      <td>1044901.0</td>\n",
       "      <td>Grocery</td>\n",
       "      <td>Risk 3 (Low)</td>\n",
       "      <td>6646-6658 S WESTERN AVE</td>\n",
       "      <td>CHICAGO</td>\n",
       "      <td>IL</td>\n",
       "      <td>60636.0</td>\n",
       "      <td>2011-10-20T00:00:00</td>\n",
       "      <td>Complaint Re-Inspection</td>\n",
       "      <td>32. FOOD AND NON-FOOD CONTACT SURFACES PROPERL...</td>\n",
       "      <td>41.772402</td>\n",
       "      <td>-87.683603</td>\n",
       "      <td>{'longitude': '-87.68360273081268', 'latitude'...</td>\n",
       "      <td>0</td>\n",
       "    </tr>\n",
       "    <tr>\n",
       "      <td>453326</td>\n",
       "      <td>MORRILL</td>\n",
       "      <td>MORRILL</td>\n",
       "      <td>24571.0</td>\n",
       "      <td>School</td>\n",
       "      <td>Risk 1 (High)</td>\n",
       "      <td>6011 S Rockwell (2600W) AVE</td>\n",
       "      <td>CHICAGO</td>\n",
       "      <td>IL</td>\n",
       "      <td>60629.0</td>\n",
       "      <td>2011-01-10T00:00:00</td>\n",
       "      <td>Canvass</td>\n",
       "      <td>34. FLOORS: CONSTRUCTED PER CODE, CLEANED, GOO...</td>\n",
       "      <td>NaN</td>\n",
       "      <td>NaN</td>\n",
       "      <td>NaN</td>\n",
       "      <td>0</td>\n",
       "    </tr>\n",
       "    <tr>\n",
       "      <td>1516695</td>\n",
       "      <td>PETE'S MARKET</td>\n",
       "      <td>PETE'S MARKET</td>\n",
       "      <td>36823.0</td>\n",
       "      <td>Grocery</td>\n",
       "      <td>Risk 1 (High)</td>\n",
       "      <td>5724 S KEDZIE AVE</td>\n",
       "      <td>CHICAGO</td>\n",
       "      <td>IL</td>\n",
       "      <td>60629.0</td>\n",
       "      <td>2015-11-30T00:00:00</td>\n",
       "      <td>Complaint</td>\n",
       "      <td>34. FLOORS: CONSTRUCTED PER CODE, CLEANED, GOO...</td>\n",
       "      <td>41.789113</td>\n",
       "      <td>-87.703580</td>\n",
       "      <td>{'longitude': '-87.70357972660756', 'latitude'...</td>\n",
       "      <td>0</td>\n",
       "    </tr>\n",
       "    <tr>\n",
       "      <td>1982990</td>\n",
       "      <td>MARK TWAIN ELEMENTARY</td>\n",
       "      <td>MARK TWAIN ELEMENTARY</td>\n",
       "      <td>25661.0</td>\n",
       "      <td>School</td>\n",
       "      <td>Risk 1 (High)</td>\n",
       "      <td>5134 S LOTUS</td>\n",
       "      <td>CHICAGO</td>\n",
       "      <td>IL</td>\n",
       "      <td>60638.0</td>\n",
       "      <td>2017-02-10T00:00:00</td>\n",
       "      <td>Canvass Re-Inspection</td>\n",
       "      <td>NaN</td>\n",
       "      <td>41.799052</td>\n",
       "      <td>-87.758965</td>\n",
       "      <td>{'longitude': '-87.75896524463428', 'latitude'...</td>\n",
       "      <td>0</td>\n",
       "    </tr>\n",
       "    <tr>\n",
       "      <td>519292</td>\n",
       "      <td>CITGO GAS</td>\n",
       "      <td>CITGO GAS</td>\n",
       "      <td>2093475.0</td>\n",
       "      <td>Grocery</td>\n",
       "      <td>Risk 2 (Medium)</td>\n",
       "      <td>4064-4070 N CLARK ST</td>\n",
       "      <td>CHICAGO</td>\n",
       "      <td>IL</td>\n",
       "      <td>60613.0</td>\n",
       "      <td>2011-11-01T00:00:00</td>\n",
       "      <td>Complaint</td>\n",
       "      <td>NaN</td>\n",
       "      <td>41.956094</td>\n",
       "      <td>-87.663477</td>\n",
       "      <td>{'longitude': '-87.66347696035288', 'latitude'...</td>\n",
       "      <td>0</td>\n",
       "    </tr>\n",
       "  </tbody>\n",
       "</table>\n",
       "</div>"
      ],
      "text/plain": [
       "                                            DBA Name  \\\n",
       "Inspection ID                                          \n",
       "555268         FILLING STATION  & CONVENIENCE  STORE   \n",
       "453326                                       MORRILL   \n",
       "1516695                                PETE'S MARKET   \n",
       "1982990                        MARK TWAIN ELEMENTARY   \n",
       "519292                                     CITGO GAS   \n",
       "\n",
       "                                            AKA Name  License # Facility Type  \\\n",
       "Inspection ID                                                                   \n",
       "555268         FILLING STATION  & CONVENIENCE  STORE  1044901.0       Grocery   \n",
       "453326                                       MORRILL    24571.0        School   \n",
       "1516695                                PETE'S MARKET    36823.0       Grocery   \n",
       "1982990                        MARK TWAIN ELEMENTARY    25661.0        School   \n",
       "519292                                     CITGO GAS  2093475.0       Grocery   \n",
       "\n",
       "                          Risk                       Address     City State  \\\n",
       "Inspection ID                                                                 \n",
       "555268            Risk 3 (Low)      6646-6658 S WESTERN AVE   CHICAGO    IL   \n",
       "453326           Risk 1 (High)  6011 S Rockwell (2600W) AVE   CHICAGO    IL   \n",
       "1516695          Risk 1 (High)            5724 S KEDZIE AVE   CHICAGO    IL   \n",
       "1982990          Risk 1 (High)                 5134 S LOTUS   CHICAGO    IL   \n",
       "519292         Risk 2 (Medium)         4064-4070 N CLARK ST   CHICAGO    IL   \n",
       "\n",
       "                   Zip      Inspection Date          Inspection Type  \\\n",
       "Inspection ID                                                          \n",
       "555268         60636.0  2011-10-20T00:00:00  Complaint Re-Inspection   \n",
       "453326         60629.0  2011-01-10T00:00:00                  Canvass   \n",
       "1516695        60629.0  2015-11-30T00:00:00                Complaint   \n",
       "1982990        60638.0  2017-02-10T00:00:00    Canvass Re-Inspection   \n",
       "519292         60613.0  2011-11-01T00:00:00                Complaint   \n",
       "\n",
       "                                                      Violations   Latitude  \\\n",
       "Inspection ID                                                                 \n",
       "555268         32. FOOD AND NON-FOOD CONTACT SURFACES PROPERL...  41.772402   \n",
       "453326         34. FLOORS: CONSTRUCTED PER CODE, CLEANED, GOO...        NaN   \n",
       "1516695        34. FLOORS: CONSTRUCTED PER CODE, CLEANED, GOO...  41.789113   \n",
       "1982990                                                      NaN  41.799052   \n",
       "519292                                                       NaN  41.956094   \n",
       "\n",
       "               Longitude                                           Location  \\\n",
       "Inspection ID                                                                 \n",
       "555268        -87.683603  {'longitude': '-87.68360273081268', 'latitude'...   \n",
       "453326               NaN                                                NaN   \n",
       "1516695       -87.703580  {'longitude': '-87.70357972660756', 'latitude'...   \n",
       "1982990       -87.758965  {'longitude': '-87.75896524463428', 'latitude'...   \n",
       "519292        -87.663477  {'longitude': '-87.66347696035288', 'latitude'...   \n",
       "\n",
       "               Fail  \n",
       "Inspection ID        \n",
       "555268            0  \n",
       "453326            0  \n",
       "1516695           0  \n",
       "1982990           0  \n",
       "519292            0  "
      ]
     },
     "execution_count": 243,
     "metadata": {},
     "output_type": "execute_result"
    }
   ],
   "source": [
    "train.head()"
   ]
  },
  {
   "cell_type": "code",
   "execution_count": 244,
   "metadata": {},
   "outputs": [],
   "source": [
    "from sklearn.model_selection import train_test_split"
   ]
  },
  {
   "cell_type": "markdown",
   "metadata": {
    "colab_type": "text",
    "id": "nB8CQnExGqzr"
   },
   "source": [
    "## Part 2: Modeling\n",
    "\n",
    "> **Fit a model** with the train set. (You may use scikit-learn, xgboost, or any other library.) Use cross-validation or do a three-way split (train/validate/test) and **estimate your ROC AUC** validation score.\n",
    ">\n",
    "> Use your model to **predict probabilities** for the test set. **Get an ROC AUC test score >= 0.60.**"
   ]
  },
  {
   "cell_type": "code",
   "execution_count": 245,
   "metadata": {
    "colab": {},
    "colab_type": "code",
    "id": "YQ3hD2G1IbVH"
   },
   "outputs": [],
   "source": [
    "train, val = train_test_split(train, train_size=0.80, test_size=0.20, \n",
    "                              stratify=train['Facility Type'], random_state=42)"
   ]
  },
  {
   "cell_type": "code",
   "execution_count": 246,
   "metadata": {},
   "outputs": [
    {
     "name": "stdout",
     "output_type": "stream",
     "text": [
      "(11391, 16) (2848, 16) (17306, 16)\n"
     ]
    }
   ],
   "source": [
    "print(train.shape, val.shape, test.shape)"
   ]
  },
  {
   "cell_type": "code",
   "execution_count": 247,
   "metadata": {},
   "outputs": [],
   "source": [
    "target = 'Fail'\n",
    "features = train.columns.drop(target)\n",
    "X_train = train[features]\n",
    "y_train = train[target]\n",
    "X_val = val[features]\n",
    "y_val = val[target]"
   ]
  },
  {
   "cell_type": "code",
   "execution_count": 248,
   "metadata": {},
   "outputs": [
    {
     "data": {
      "text/plain": [
       "0    0.735142\n",
       "1    0.264858\n",
       "Name: Fail, dtype: float64"
      ]
     },
     "execution_count": 248,
     "metadata": {},
     "output_type": "execute_result"
    }
   ],
   "source": [
    "y_train.value_counts(normalize=True)"
   ]
  },
  {
   "cell_type": "markdown",
   "metadata": {},
   "source": [
    "Baseline is the 74% of the time food handling entities pass their inspections."
   ]
  },
  {
   "cell_type": "code",
   "execution_count": 249,
   "metadata": {},
   "outputs": [
    {
     "name": "stdout",
     "output_type": "stream",
     "text": [
      "Train Accuracy 1.0\n",
      "Validation Accuracy 0.7212078651685393\n"
     ]
    }
   ],
   "source": [
    "import category_encoders as ce\n",
    "from sklearn.impute import SimpleImputer\n",
    "from sklearn.ensemble import RandomForestClassifier\n",
    "from sklearn.model_selection import train_test_split\n",
    "from sklearn.pipeline import make_pipeline\n",
    "\n",
    "pipeline = make_pipeline(\n",
    "    ce.OrdinalEncoder(), \n",
    "    SimpleImputer(strategy='median'), \n",
    "    RandomForestClassifier(n_estimators=100, random_state=42, n_jobs=-1)\n",
    ")\n",
    "\n",
    "# Fit on train, score on val\n",
    "pipeline.fit(X_train, y_train)\n",
    "print('Train Accuracy', pipeline.score(X_train, y_train))\n",
    "print('Validation Accuracy', pipeline.score(X_val, y_val))"
   ]
  },
  {
   "cell_type": "markdown",
   "metadata": {},
   "source": [
    "Validation accuracy of the model is less than random throws of the dice."
   ]
  },
  {
   "cell_type": "code",
   "execution_count": 250,
   "metadata": {},
   "outputs": [
    {
     "data": {
      "image/png": "[encoded data removed]",
      "text/plain": [
       "<Figure size 720x720 with 1 Axes>"
      ]
     },
     "metadata": {
      "needs_background": "light"
     },
     "output_type": "display_data"
    }
   ],
   "source": [
    "# Get feature importances\n",
    "rf = pipeline.named_steps['randomforestclassifier']\n",
    "importances = pd.Series(rf.feature_importances_, X_train.columns)\n",
    "\n",
    "# Plot feature importances\n",
    "%matplotlib inline\n",
    "import matplotlib.pyplot as plt\n",
    "\n",
    "n = 20\n",
    "plt.figure(figsize=(10,n/2))\n",
    "plt.title(f'Top {n} features')\n",
    "importances.sort_values()[-n:].plot.barh(color='grey');"
   ]
  },
  {
   "cell_type": "code",
   "execution_count": 251,
   "metadata": {},
   "outputs": [
    {
     "name": "stdout",
     "output_type": "stream",
     "text": [
      "Validation Accuracy without Violations: 0.7015449438202247\n",
      "Validation Accuracy with Violations: 0.7212078651685393\n",
      "Drop-Column Importance for Violations: 0.0196629213483146\n"
     ]
    }
   ],
   "source": [
    "column  = 'Violations'\n",
    "\n",
    "# Fit without column\n",
    "pipeline = make_pipeline(\n",
    "    ce.OrdinalEncoder(), \n",
    "    SimpleImputer(strategy='median'), \n",
    "    RandomForestClassifier(n_estimators=100, random_state=42, n_jobs=-1)\n",
    ")\n",
    "pipeline.fit(X_train.drop(columns=column), y_train)\n",
    "score_without = pipeline.score(X_val.drop(columns=column), y_val)\n",
    "print(f'Validation Accuracy without {column}: {score_without}')\n",
    "\n",
    "# Fit with column\n",
    "pipeline = make_pipeline(\n",
    "    ce.OrdinalEncoder(), \n",
    "    SimpleImputer(strategy='median'), \n",
    "    RandomForestClassifier(n_estimators=100, random_state=42, n_jobs=-1)\n",
    ")\n",
    "pipeline.fit(X_train, y_train)\n",
    "score_with = pipeline.score(X_val, y_val)\n",
    "print(f'Validation Accuracy with {column}: {score_with}')\n",
    "\n",
    "# Compare the error with & without column\n",
    "print(f'Drop-Column Importance for {column}: {score_with - score_without}')"
   ]
  },
  {
   "cell_type": "code",
   "execution_count": 252,
   "metadata": {},
   "outputs": [
    {
     "data": {
      "image/png": "[encoded data removed]",
      "text/plain": [
       "<Figure size 432x288 with 1 Axes>"
      ]
     },
     "metadata": {
      "needs_background": "light"
     },
     "output_type": "display_data"
    }
   ],
   "source": [
    "from sklearn.metrics import roc_auc_score\n",
    "from sklearn.metrics import roc_curve\n",
    "y_pred_proba = pipeline.predict_proba(X_val)[:, -1] # Probability for the last class\n",
    "roc_auc_score(y_val, y_pred_proba)\n",
    "fpr, tpr, thresholds = roc_curve(y_val, y_pred_proba)\n",
    "pd.DataFrame({\n",
    "    'False Positive Rate': fpr, \n",
    "    'True Positive Rate': tpr, \n",
    "    'Threshold': thresholds\n",
    "})\n",
    "\n",
    "\n",
    "import matplotlib.pyplot as plt\n",
    "plt.scatter(fpr, tpr)\n",
    "plt.plot(fpr, tpr)\n",
    "plt.title('ROC curve')\n",
    "plt.xlabel('False Positive Rate')\n",
    "plt.ylabel('True Positive Rate');"
   ]
  },
  {
   "cell_type": "markdown",
   "metadata": {},
   "source": [
    "As you can see the curve here is barely above the center. So there is some value in the ROC curve but not very much. Clearly more work needs to be done on the model."
   ]
  },
  {
   "cell_type": "markdown",
   "metadata": {
    "colab_type": "text",
    "id": "u98nLGBTMo9s"
   },
   "source": [
    "## Part 3: Visualization\n",
    "\n",
    "> Make visualizations for model interpretation. (You may use any libraries.) Choose two of these types:\n",
    ">\n",
    "> - Permutation Importances\n",
    "> - Partial Dependence Plot, 1 feature isolation\n",
    "> - Partial Dependence Plot, 2 features interaction\n",
    "> - Shapley Values"
   ]
  },
  {
   "cell_type": "code",
   "execution_count": 253,
   "metadata": {},
   "outputs": [
    {
     "name": "stdout",
     "output_type": "stream",
     "text": [
      "Requirement already satisfied: eli5 in /Users/filch/opt/anaconda3/lib/python3.7/site-packages (0.10.1)\n",
      "Requirement already satisfied: numpy>=1.9.0 in /Users/filch/opt/anaconda3/lib/python3.7/site-packages (from eli5) (1.17.2)\n",
      "Requirement already satisfied: scipy in /Users/filch/opt/anaconda3/lib/python3.7/site-packages (from eli5) (1.3.1)\n",
      "Requirement already satisfied: graphviz in /Users/filch/opt/anaconda3/lib/python3.7/site-packages (from eli5) (0.13.2)\n",
      "Requirement already satisfied: tabulate>=0.7.7 in /Users/filch/opt/anaconda3/lib/python3.7/site-packages (from eli5) (0.8.6)\n",
      "Requirement already satisfied: six in /Users/filch/opt/anaconda3/lib/python3.7/site-packages (from eli5) (1.12.0)\n",
      "Requirement already satisfied: scikit-learn>=0.18 in /Users/filch/opt/anaconda3/lib/python3.7/site-packages (from eli5) (0.21.3)\n",
      "Requirement already satisfied: jinja2 in /Users/filch/opt/anaconda3/lib/python3.7/site-packages (from eli5) (2.10.3)\n",
      "Requirement already satisfied: attrs>16.0.0 in /Users/filch/opt/anaconda3/lib/python3.7/site-packages (from eli5) (19.2.0)\n",
      "Requirement already satisfied: joblib>=0.11 in /Users/filch/opt/anaconda3/lib/python3.7/site-packages (from scikit-learn>=0.18->eli5) (0.13.2)\n",
      "Requirement already satisfied: MarkupSafe>=0.23 in /Users/filch/opt/anaconda3/lib/python3.7/site-packages (from jinja2->eli5) (1.1.1)\n",
      "Note: you may need to restart the kernel to use updated packages.\n"
     ]
    }
   ],
   "source": [
    "pip install eli5"
   ]
  },
  {
   "cell_type": "code",
   "execution_count": 254,
   "metadata": {},
   "outputs": [
    {
     "data": {
      "text/plain": [
       "RandomForestClassifier(bootstrap=True, class_weight=None, criterion='gini',\n",
       "                       max_depth=None, max_features='auto', max_leaf_nodes=None,\n",
       "                       min_impurity_decrease=0.0, min_impurity_split=None,\n",
       "                       min_samples_leaf=1, min_samples_split=2,\n",
       "                       min_weight_fraction_leaf=0.0, n_estimators=100,\n",
       "                       n_jobs=-1, oob_score=False, random_state=42, verbose=0,\n",
       "                       warm_start=False)"
      ]
     },
     "execution_count": 254,
     "metadata": {},
     "output_type": "execute_result"
    }
   ],
   "source": [
    "transformers = make_pipeline(\n",
    "    ce.OrdinalEncoder(), \n",
    "    SimpleImputer(strategy='median')\n",
    ")\n",
    "\n",
    "X_train_transformed = transformers.fit_transform(X_train)\n",
    "X_val_transformed = transformers.transform(X_val)\n",
    "\n",
    "model = RandomForestClassifier(n_estimators=100, random_state=42, n_jobs=-1)\n",
    "model.fit(X_train_transformed, y_train)"
   ]
  },
  {
   "cell_type": "code",
   "execution_count": 255,
   "metadata": {
    "colab": {},
    "colab_type": "code",
    "id": "_Q379i5CIeKY"
   },
   "outputs": [
    {
     "data": {
      "text/plain": [
       "PermutationImportance(cv='prefit',\n",
       "                      estimator=RandomForestClassifier(bootstrap=True,\n",
       "                                                       class_weight=None,\n",
       "                                                       criterion='gini',\n",
       "                                                       max_depth=None,\n",
       "                                                       max_features='auto',\n",
       "                                                       max_leaf_nodes=None,\n",
       "                                                       min_impurity_decrease=0.0,\n",
       "                                                       min_impurity_split=None,\n",
       "                                                       min_samples_leaf=1,\n",
       "                                                       min_samples_split=2,\n",
       "                                                       min_weight_fraction_leaf=0.0,\n",
       "                                                       n_estimators=100,\n",
       "                                                       n_jobs=-1,\n",
       "                                                       oob_score=False,\n",
       "                                                       random_state=42,\n",
       "                                                       verbose=0,\n",
       "                                                       warm_start=False),\n",
       "                      n_iter=5, random_state=42, refit=True,\n",
       "                      scoring='accuracy')"
      ]
     },
     "execution_count": 255,
     "metadata": {},
     "output_type": "execute_result"
    }
   ],
   "source": [
    "\n",
    "import eli5\n",
    "from eli5.sklearn import PermutationImportance\n",
    "\n",
    "# 1. Calculate permutation importances\n",
    "permuter = PermutationImportance(\n",
    "    model, \n",
    "    scoring='accuracy', \n",
    "    n_iter=5, \n",
    "    random_state=42\n",
    ")\n",
    "\n",
    "permuter.fit(X_val_transformed, y_val)"
   ]
  },
  {
   "cell_type": "code",
   "execution_count": 256,
   "metadata": {},
   "outputs": [
    {
     "data": {
      "text/plain": [
       "Location          -0.001826\n",
       "Longitude         -0.001053\n",
       "Address           -0.000913\n",
       "Violations        -0.000843\n",
       "DBA Name          -0.000772\n",
       "Latitude          -0.000632\n",
       "City               0.000000\n",
       "State              0.000000\n",
       "AKA Name           0.000140\n",
       "Zip                0.002037\n",
       "Risk               0.002388\n",
       "Inspection Date    0.002528\n",
       "License #          0.003090\n",
       "Facility Type      0.003792\n",
       "Inspection Type    0.004705\n",
       "dtype: float64"
      ]
     },
     "execution_count": 256,
     "metadata": {},
     "output_type": "execute_result"
    }
   ],
   "source": [
    "feature_names = X_val.columns.tolist()\n",
    "pd.Series(permuter.feature_importances_, feature_names).sort_values()"
   ]
  },
  {
   "cell_type": "code",
   "execution_count": 257,
   "metadata": {},
   "outputs": [
    {
     "data": {
      "text/html": [
       "\n",
       "    <style>\n",
       "    table.eli5-weights tr:hover {\n",
       "        filter: brightness(85%);\n",
       "    }\n",
       "</style>\n",
       "\n",
       "\n",
       "\n",
       "    \n",
       "\n",
       "    \n",
       "\n",
       "    \n",
       "\n",
       "    \n",
       "\n",
       "    \n",
       "\n",
       "    \n",
       "\n",
       "\n",
       "    \n",
       "\n",
       "    \n",
       "\n",
       "    \n",
       "\n",
       "    \n",
       "\n",
       "    \n",
       "\n",
       "    \n",
       "\n",
       "\n",
       "    \n",
       "\n",
       "    \n",
       "\n",
       "    \n",
       "\n",
       "    \n",
       "\n",
       "    \n",
       "        <table class=\"eli5-weights eli5-feature-importances\" style=\"border-collapse: collapse; border: none; margin-top: 0em; table-layout: auto;\">\n",
       "    <thead>\n",
       "    <tr style=\"border: none;\">\n",
       "        <th style=\"padding: 0 1em 0 0.5em; text-align: right; border: none;\">Weight</th>\n",
       "        <th style=\"padding: 0 0.5em 0 0.5em; text-align: left; border: none;\">Feature</th>\n",
       "    </tr>\n",
       "    </thead>\n",
       "    <tbody>\n",
       "    \n",
       "        <tr style=\"background-color: hsl(120, 100.00%, 80.00%); border: none;\">\n",
       "            <td style=\"padding: 0 1em 0 0.5em; text-align: right; border: none;\">\n",
       "                0.0047\n",
       "                \n",
       "                    &plusmn; 0.0033\n",
       "                \n",
       "            </td>\n",
       "            <td style=\"padding: 0 0.5em 0 0.5em; text-align: left; border: none;\">\n",
       "                Inspection Type\n",
       "            </td>\n",
       "        </tr>\n",
       "    \n",
       "        <tr style=\"background-color: hsl(120, 100.00%, 82.80%); border: none;\">\n",
       "            <td style=\"padding: 0 1em 0 0.5em; text-align: right; border: none;\">\n",
       "                0.0038\n",
       "                \n",
       "                    &plusmn; 0.0027\n",
       "                \n",
       "            </td>\n",
       "            <td style=\"padding: 0 0.5em 0 0.5em; text-align: left; border: none;\">\n",
       "                Facility Type\n",
       "            </td>\n",
       "        </tr>\n",
       "    \n",
       "        <tr style=\"background-color: hsl(120, 100.00%, 85.10%); border: none;\">\n",
       "            <td style=\"padding: 0 1em 0 0.5em; text-align: right; border: none;\">\n",
       "                0.0031\n",
       "                \n",
       "                    &plusmn; 0.0040\n",
       "                \n",
       "            </td>\n",
       "            <td style=\"padding: 0 0.5em 0 0.5em; text-align: left; border: none;\">\n",
       "                License #\n",
       "            </td>\n",
       "        </tr>\n",
       "    \n",
       "        <tr style=\"background-color: hsl(120, 100.00%, 87.05%); border: none;\">\n",
       "            <td style=\"padding: 0 1em 0 0.5em; text-align: right; border: none;\">\n",
       "                0.0025\n",
       "                \n",
       "                    &plusmn; 0.0026\n",
       "                \n",
       "            </td>\n",
       "            <td style=\"padding: 0 0.5em 0 0.5em; text-align: left; border: none;\">\n",
       "                Inspection Date\n",
       "            </td>\n",
       "        </tr>\n",
       "    \n",
       "        <tr style=\"background-color: hsl(120, 100.00%, 87.56%); border: none;\">\n",
       "            <td style=\"padding: 0 1em 0 0.5em; text-align: right; border: none;\">\n",
       "                0.0024\n",
       "                \n",
       "                    &plusmn; 0.0020\n",
       "                \n",
       "            </td>\n",
       "            <td style=\"padding: 0 0.5em 0 0.5em; text-align: left; border: none;\">\n",
       "                Risk\n",
       "            </td>\n",
       "        </tr>\n",
       "    \n",
       "        <tr style=\"background-color: hsl(120, 100.00%, 88.87%); border: none;\">\n",
       "            <td style=\"padding: 0 1em 0 0.5em; text-align: right; border: none;\">\n",
       "                0.0020\n",
       "                \n",
       "                    &plusmn; 0.0029\n",
       "                \n",
       "            </td>\n",
       "            <td style=\"padding: 0 0.5em 0 0.5em; text-align: left; border: none;\">\n",
       "                Zip\n",
       "            </td>\n",
       "        </tr>\n",
       "    \n",
       "        <tr style=\"background-color: hsl(120, 100.00%, 98.29%); border: none;\">\n",
       "            <td style=\"padding: 0 1em 0 0.5em; text-align: right; border: none;\">\n",
       "                0.0001\n",
       "                \n",
       "                    &plusmn; 0.0015\n",
       "                \n",
       "            </td>\n",
       "            <td style=\"padding: 0 0.5em 0 0.5em; text-align: left; border: none;\">\n",
       "                AKA Name\n",
       "            </td>\n",
       "        </tr>\n",
       "    \n",
       "        <tr style=\"background-color: hsl(0, 100.00%, 100.00%); border: none;\">\n",
       "            <td style=\"padding: 0 1em 0 0.5em; text-align: right; border: none;\">\n",
       "                0\n",
       "                \n",
       "                    &plusmn; 0.0000\n",
       "                \n",
       "            </td>\n",
       "            <td style=\"padding: 0 0.5em 0 0.5em; text-align: left; border: none;\">\n",
       "                State\n",
       "            </td>\n",
       "        </tr>\n",
       "    \n",
       "        <tr style=\"background-color: hsl(0, 100.00%, 100.00%); border: none;\">\n",
       "            <td style=\"padding: 0 1em 0 0.5em; text-align: right; border: none;\">\n",
       "                0\n",
       "                \n",
       "                    &plusmn; 0.0000\n",
       "                \n",
       "            </td>\n",
       "            <td style=\"padding: 0 0.5em 0 0.5em; text-align: left; border: none;\">\n",
       "                City\n",
       "            </td>\n",
       "        </tr>\n",
       "    \n",
       "        <tr style=\"background-color: hsl(0, 100.00%, 95.09%); border: none;\">\n",
       "            <td style=\"padding: 0 1em 0 0.5em; text-align: right; border: none;\">\n",
       "                -0.0006\n",
       "                \n",
       "                    &plusmn; 0.0025\n",
       "                \n",
       "            </td>\n",
       "            <td style=\"padding: 0 0.5em 0 0.5em; text-align: left; border: none;\">\n",
       "                Latitude\n",
       "            </td>\n",
       "        </tr>\n",
       "    \n",
       "        <tr style=\"background-color: hsl(0, 100.00%, 94.35%); border: none;\">\n",
       "            <td style=\"padding: 0 1em 0 0.5em; text-align: right; border: none;\">\n",
       "                -0.0008\n",
       "                \n",
       "                    &plusmn; 0.0012\n",
       "                \n",
       "            </td>\n",
       "            <td style=\"padding: 0 0.5em 0 0.5em; text-align: left; border: none;\">\n",
       "                DBA Name\n",
       "            </td>\n",
       "        </tr>\n",
       "    \n",
       "        <tr style=\"background-color: hsl(0, 100.00%, 94.00%); border: none;\">\n",
       "            <td style=\"padding: 0 1em 0 0.5em; text-align: right; border: none;\">\n",
       "                -0.0008\n",
       "                \n",
       "                    &plusmn; 0.0007\n",
       "                \n",
       "            </td>\n",
       "            <td style=\"padding: 0 0.5em 0 0.5em; text-align: left; border: none;\">\n",
       "                Violations\n",
       "            </td>\n",
       "        </tr>\n",
       "    \n",
       "        <tr style=\"background-color: hsl(0, 100.00%, 93.65%); border: none;\">\n",
       "            <td style=\"padding: 0 1em 0 0.5em; text-align: right; border: none;\">\n",
       "                -0.0009\n",
       "                \n",
       "                    &plusmn; 0.0023\n",
       "                \n",
       "            </td>\n",
       "            <td style=\"padding: 0 0.5em 0 0.5em; text-align: left; border: none;\">\n",
       "                Address\n",
       "            </td>\n",
       "        </tr>\n",
       "    \n",
       "        <tr style=\"background-color: hsl(0, 100.00%, 92.98%); border: none;\">\n",
       "            <td style=\"padding: 0 1em 0 0.5em; text-align: right; border: none;\">\n",
       "                -0.0011\n",
       "                \n",
       "                    &plusmn; 0.0011\n",
       "                \n",
       "            </td>\n",
       "            <td style=\"padding: 0 0.5em 0 0.5em; text-align: left; border: none;\">\n",
       "                Longitude\n",
       "            </td>\n",
       "        </tr>\n",
       "    \n",
       "        <tr style=\"background-color: hsl(0, 100.00%, 89.69%); border: none;\">\n",
       "            <td style=\"padding: 0 1em 0 0.5em; text-align: right; border: none;\">\n",
       "                -0.0018\n",
       "                \n",
       "                    &plusmn; 0.0019\n",
       "                \n",
       "            </td>\n",
       "            <td style=\"padding: 0 0.5em 0 0.5em; text-align: left; border: none;\">\n",
       "                Location\n",
       "            </td>\n",
       "        </tr>\n",
       "    \n",
       "    \n",
       "    </tbody>\n",
       "</table>\n",
       "    \n",
       "\n",
       "    \n",
       "\n",
       "\n",
       "    \n",
       "\n",
       "    \n",
       "\n",
       "    \n",
       "\n",
       "    \n",
       "\n",
       "    \n",
       "\n",
       "    \n",
       "\n",
       "\n",
       "\n"
      ],
      "text/plain": [
       "<IPython.core.display.HTML object>"
      ]
     },
     "execution_count": 257,
     "metadata": {},
     "output_type": "execute_result"
    }
   ],
   "source": [
    "eli5.show_weights(\n",
    "    permuter, \n",
    "    top=None, # show permutation importances for all features\n",
    "    feature_names=feature_names # must be a list\n",
    ")"
   ]
  },
  {
   "cell_type": "markdown",
   "metadata": {},
   "source": [
    "This seems to clearly show that none of the features really are that important. Inspection Type is the closest to having some importance but it's only just at the 50% threshold from the weight. Seems to me that a lot of detailed work needs to be done on the data set to clean and organize it better to build a better model."
   ]
  },
  {
   "cell_type": "code",
   "execution_count": 258,
   "metadata": {},
   "outputs": [
    {
     "name": "stdout",
     "output_type": "stream",
     "text": [
      "Requirement already satisfied: PDPbox in /Users/filch/opt/anaconda3/lib/python3.7/site-packages (0.2.0)\n",
      "Requirement already satisfied: matplotlib>=2.1.2 in /Users/filch/opt/anaconda3/lib/python3.7/site-packages (from PDPbox) (3.1.1)\n",
      "Requirement already satisfied: scipy in /Users/filch/opt/anaconda3/lib/python3.7/site-packages (from PDPbox) (1.3.1)\n",
      "Requirement already satisfied: scikit-learn in /Users/filch/opt/anaconda3/lib/python3.7/site-packages (from PDPbox) (0.21.3)\n",
      "Requirement already satisfied: numpy in /Users/filch/opt/anaconda3/lib/python3.7/site-packages (from PDPbox) (1.17.2)\n",
      "Requirement already satisfied: joblib in /Users/filch/opt/anaconda3/lib/python3.7/site-packages (from PDPbox) (0.13.2)\n",
      "Requirement already satisfied: psutil in /Users/filch/opt/anaconda3/lib/python3.7/site-packages (from PDPbox) (5.6.3)\n",
      "Requirement already satisfied: pandas in /Users/filch/opt/anaconda3/lib/python3.7/site-packages (from PDPbox) (0.25.1)\n",
      "Requirement already satisfied: cycler>=0.10 in /Users/filch/opt/anaconda3/lib/python3.7/site-packages (from matplotlib>=2.1.2->PDPbox) (0.10.0)\n",
      "Requirement already satisfied: kiwisolver>=1.0.1 in /Users/filch/opt/anaconda3/lib/python3.7/site-packages (from matplotlib>=2.1.2->PDPbox) (1.1.0)\n",
      "Requirement already satisfied: pyparsing!=2.0.4,!=2.1.2,!=2.1.6,>=2.0.1 in /Users/filch/opt/anaconda3/lib/python3.7/site-packages (from matplotlib>=2.1.2->PDPbox) (2.4.2)\n",
      "Requirement already satisfied: python-dateutil>=2.1 in /Users/filch/opt/anaconda3/lib/python3.7/site-packages (from matplotlib>=2.1.2->PDPbox) (2.8.0)\n",
      "Requirement already satisfied: pytz>=2017.2 in /Users/filch/opt/anaconda3/lib/python3.7/site-packages (from pandas->PDPbox) (2019.3)\n",
      "Requirement already satisfied: six in /Users/filch/opt/anaconda3/lib/python3.7/site-packages (from cycler>=0.10->matplotlib>=2.1.2->PDPbox) (1.12.0)\n",
      "Requirement already satisfied: setuptools in /Users/filch/opt/anaconda3/lib/python3.7/site-packages (from kiwisolver>=1.0.1->matplotlib>=2.1.2->PDPbox) (41.4.0)\n",
      "Note: you may need to restart the kernel to use updated packages.\n"
     ]
    }
   ],
   "source": [
    "pip install PDPbox"
   ]
  },
  {
   "cell_type": "code",
   "execution_count": 259,
   "metadata": {},
   "outputs": [
    {
     "name": "stdout",
     "output_type": "stream",
     "text": [
      "Requirement already satisfied: xgboost in /Users/filch/opt/anaconda3/lib/python3.7/site-packages (0.90)\n",
      "Requirement already satisfied: scipy in /Users/filch/opt/anaconda3/lib/python3.7/site-packages (from xgboost) (1.3.1)\n",
      "Requirement already satisfied: numpy in /Users/filch/opt/anaconda3/lib/python3.7/site-packages (from xgboost) (1.17.2)\n",
      "Note: you may need to restart the kernel to use updated packages.\n"
     ]
    }
   ],
   "source": [
    "pip install xgboost"
   ]
  },
  {
   "cell_type": "code",
   "execution_count": 260,
   "metadata": {},
   "outputs": [
    {
     "name": "stdout",
     "output_type": "stream",
     "text": [
      "Gradient Boosting R^2 -0.06459304402266719\n"
     ]
    }
   ],
   "source": [
    "from sklearn.metrics import r2_score\n",
    "from xgboost import XGBRegressor\n",
    "\n",
    "gb = make_pipeline(\n",
    "    ce.OrdinalEncoder(), \n",
    "    XGBRegressor(n_estimators=200, objective='reg:squarederror', n_jobs=-1)\n",
    ")\n",
    "\n",
    "gb.fit(X_train, y_train)\n",
    "y_pred = gb.predict(X_val)\n",
    "print('Gradient Boosting R^2', r2_score(y_val, y_pred))"
   ]
  },
  {
   "cell_type": "code",
   "execution_count": 261,
   "metadata": {},
   "outputs": [],
   "source": [
    "import matplotlib.pyplot as plt"
   ]
  },
  {
   "cell_type": "code",
   "execution_count": 262,
   "metadata": {},
   "outputs": [
    {
     "data": {
      "text/plain": [
       "Index(['DBA Name', 'AKA Name', 'License #', 'Facility Type', 'Risk', 'Address',\n",
       "       'City', 'State', 'Zip', 'Inspection Date', 'Inspection Type',\n",
       "       'Violations', 'Latitude', 'Longitude', 'Location'],\n",
       "      dtype='object')"
      ]
     },
     "execution_count": 262,
     "metadata": {},
     "output_type": "execute_result"
    }
   ],
   "source": [
    "features"
   ]
  },
  {
   "cell_type": "code",
   "execution_count": 263,
   "metadata": {},
   "outputs": [],
   "source": [
    "from pdpbox.pdp import pdp_isolate, pdp_plot\n",
    "\n",
    "feature = 'License #'\n",
    "\n",
    "isolated = pdp_isolate(\n",
    "    model=gb,\n",
    "    dataset=X_val,\n",
    "    model_features=X_val.columns,\n",
    "    feature=feature\n",
    ")"
   ]
  },
  {
   "cell_type": "code",
   "execution_count": 264,
   "metadata": {},
   "outputs": [
    {
     "data": {
      "text/plain": [
       "(<Figure size 1080x684 with 2 Axes>,\n",
       " {'title_ax': <matplotlib.axes._subplots.AxesSubplot at 0x1a401c4e50>,\n",
       "  'pdp_ax': <matplotlib.axes._subplots.AxesSubplot at 0x1a37fea050>})"
      ]
     },
     "execution_count": 264,
     "metadata": {},
     "output_type": "execute_result"
    },
    {
     "data": {
      "image/png": "[encoded data removed]",
      "text/plain": [
       "<Figure size 1080x684 with 2 Axes>"
      ]
     },
     "metadata": {
      "needs_background": "light"
     },
     "output_type": "display_data"
    }
   ],
   "source": [
    "pdp_plot(isolated, feature_name=feature)"
   ]
  },
  {
   "cell_type": "markdown",
   "metadata": {},
   "source": [
    "#Wrap Up\n",
    "\n",
    "I believe I fulfilled all the requirements of the sprint challenge. I cleaned and organized data, engineered features, created a model, and then created visualizations of some of the results.\n",
    "\n",
    "The model is not worth much as it generally doesn't perform better than random throws of the dice. But that's ok.\n",
    "\n",
    "This would all be a first step. The next iteration I would do a number of things.\n",
    "\n",
    "1. The inspection type of 'Complaint Re-Inspection' & 'Canvas Re-Inspection' are almost assuredly the source of data leakage. I would conjecture that removing rows which contain these types of inspections would remove data leakage from the data and help me to build a better model.\n",
    "2. I would do more work towards re-engineering the 'Facility Type' to include more of the rows.\n",
    "3. Knowing now, based on this iteration of analysis, that the 'Violations' row carries the most importance to the model I would attempt to engineer new features based on this: for instance, faulty building code violations are distinctly different from leaves food out on counter type violations. I'd want to learn more about this by analyzing the value_counts of this column and perhaps make some changes to the model based on this.\n",
    "4. I would attend more closely to the nulls & Nans in the dataframes. In my model I ignored most of them and could most assuredly do a better job with the model if I attended to these through some kind of interpretation or substitution scheme."
   ]
  }
 ],
 "metadata": {
  "kernelspec": {
   "display_name": "Python 3",
   "language": "python",
   "name": "python3"
  },
  "language_info": {
   "codemirror_mode": {
    "name": "ipython",
    "version": 3
   },
   "file_extension": ".py",
   "mimetype": "text/x-python",
   "name": "python",
   "nbconvert_exporter": "python",
   "pygments_lexer": "ipython3",
   "version": "3.7.4"
  }
 },
 "nbformat": 4,
 "nbformat_minor": 4
}
